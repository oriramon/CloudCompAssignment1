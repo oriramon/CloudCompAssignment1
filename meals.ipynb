{
 "cells": [
  {
   "cell_type": "code",
<<<<<<< HEAD
   "execution_count": null,
   "metadata": {},
   "outputs": [],
   "source": [
    "dishes = {\n",
    "    234: {'first element': 'test1'}, \n",
    "    235: {'name': 'tomato', 'calories': 18.2, 'serving_size_g': 100.0, 'sodium_mg': 4, 'sugar_g': 2.6, 'ID': 235}, \n",
    "    236: {'name': 'tomato', 'calories': 18.2, 'serving_size_g': 100.0, 'sodium_mg': 4, 'sugar_g': 2.6, 'ID': 236},\n",
    "}"
=======
   "execution_count": 18,
   "metadata": {},
   "outputs": [],
   "source": [
    "import pprint\n"
   ]
  },
  {
   "cell_type": "code",
   "execution_count": 83,
   "metadata": {},
   "outputs": [],
   "source": [
    "dishes = dict()"
   ]
  },
  {
   "cell_type": "code",
   "execution_count": 108,
   "metadata": {},
   "outputs": [],
   "source": [
    "nextId = 0\n",
    "response = [\n",
    "  {\n",
    "    # \"name\": \"tomato\",\n",
    "    \"calories\": 289.3,\n",
    "    \"serving_size_g\": 100,\n",
    "    \"fat_total_g\": 18.3,\n",
    "    \"fat_saturated_g\": 7.3,\n",
    "    \"protein_g\": 29.1,\n",
    "    \"sodium_mg\": 47,\n",
    "    \"potassium_mg\": 172,\n",
    "    \"cholesterol_mg\": 107,\n",
    "    \"carbohydrates_total_g\": 0,\n",
    "    \"fiber_g\": 0,\n",
    "    \"sugar_g\": 0\n",
    "  },\n",
    "  {\n",
    "    # \"name\": \"fries\",\n",
    "    \"calories\": 317.7,\n",
    "    \"serving_size_g\": 100,\n",
    "    \"fat_total_g\": 14.8,\n",
    "    \"fat_saturated_g\": 2.3,\n",
    "    \"protein_g\": 3.4,\n",
    "    \"sodium_mg\": 212,\n",
    "    \"potassium_mg\": 124,\n",
    "    \"cholesterol_mg\": 0,\n",
    "    \"carbohydrates_total_g\": 41.1,\n",
    "    \"fiber_g\": 3.8,\n",
    "    \"sugar_g\": 0.3\n",
    "  }\n",
    "]\n",
    "\n",
    "keys = {\"name\": \"name\", \"calories\": \"cal\", \"serving_size_g\": \"size\", \"sodium_mg\": \"sodium\", \"sugar_g\": \"sugar\"} \n"
   ]
  },
  {
   "cell_type": "code",
   "execution_count": 116,
   "metadata": {},
   "outputs": [],
   "source": [
    "# dishes[nextId] = {key: response[0][key] for key in keys}\n",
    "# dishes[nextId] = {key: response[i][key] for key in keys for i in range(len(response))}\n",
    "# print(len(response))\n",
    "# print(response[])\n",
    "dishes[nextId] = dict()\n",
    "result = {keys[k]: sum(d[k] for d in response if k in keys) for k in set(k for d in response for k in d if k in keys)}\n",
    "# result = {val: sum(d[key] for d in response if key in keys) for key, val in set((key, val) for d in response for key, val in d if key in keys)}\n",
    "# for term in response:\n",
    "#     for key in term:\n",
    "#         dishes[nextId][key] = dishes[nextId][key] + term[key]\n",
    "#         print(f'{key=}')\n",
    "#         print(f'{term[key]=}')\n",
    "# nextId = max(int(id) for id in dishes.keys()) + 1\n"
   ]
  },
  {
   "cell_type": "code",
   "execution_count": 117,
   "metadata": {},
   "outputs": [
    {
     "name": "stdout",
     "output_type": "stream",
     "text": [
      "{'cal': 607.0, 'size': 200, 'sodium': 259, 'sugar': 0.3}\n"
     ]
    }
   ],
   "source": [
    "pprint.pprint(result)"
>>>>>>> refs/remotes/origin/main
   ]
  },
  {
   "cell_type": "code",
   "execution_count": null,
   "metadata": {},
   "outputs": [],
<<<<<<< HEAD
   "source": [
    "test = 2"
   ]
  }
 ],
 "metadata": {
  "language_info": {
   "name": "python"
=======
   "source": []
  }
 ],
 "metadata": {
  "kernelspec": {
   "display_name": "cloud",
   "language": "python",
   "name": "python3"
  },
  "language_info": {
   "codemirror_mode": {
    "name": "ipython",
    "version": 3
   },
   "file_extension": ".py",
   "mimetype": "text/x-python",
   "name": "python",
   "nbconvert_exporter": "python",
   "pygments_lexer": "ipython3",
   "version": "3.11.2"
>>>>>>> refs/remotes/origin/main
  },
  "orig_nbformat": 4
 },
 "nbformat": 4,
 "nbformat_minor": 2
}
