{
 "cells": [
  {
   "cell_type": "code",
   "execution_count": null,
   "metadata": {},
   "outputs": [],
   "source": [
    "dishes = {\n",
    "    234: {'first element': 'test1'}, \n",
    "    235: {'name': 'tomato', 'calories': 18.2, 'serving_size_g': 100.0, 'sodium_mg': 4, 'sugar_g': 2.6, 'ID': 235}, \n",
    "    236: {'name': 'tomato', 'calories': 18.2, 'serving_size_g': 100.0, 'sodium_mg': 4, 'sugar_g': 2.6, 'ID': 236},\n",
    "}"
   ]
  },
  {
   "cell_type": "code",
   "execution_count": null,
   "metadata": {},
   "outputs": [],
   "source": [
    "test = 2"
   ]
  }
 ],
 "metadata": {
  "language_info": {
   "name": "python"
  },
  "orig_nbformat": 4
 },
 "nbformat": 4,
 "nbformat_minor": 2
}
